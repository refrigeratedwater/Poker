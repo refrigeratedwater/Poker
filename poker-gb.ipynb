{
 "cells": [
  {
   "cell_type": "code",
   "execution_count": null,
   "metadata": {},
   "outputs": [],
   "source": [
    "import matplotlib.pyplot as plt\n",
    "\n",
    "def roc_plot(y_test, y_prob):\n",
    "    from sklearn.metrics import roc_curve, auc\n",
    "    from sklearn.preprocessing import label_binarize\n",
    "    from itertools import cycle\n",
    "    \n",
    "    hand_name = {\n",
    "        0: 'Nothing in hand',\n",
    "        1: 'One pair',\n",
    "        2: 'Two pairs',\n",
    "        3: 'Three of a kind',\n",
    "        4: 'Straight',\n",
    "        5: 'Flush',\n",
    "        6: 'Full house',\n",
    "        7: 'Four of a kind',\n",
    "        8: 'Straight flush',\n",
    "        9: 'Royal flush',\n",
    "    }\n",
    "    \n",
    "    y_test_bin = label_binarize(y_test, classes=[0, 1, 2, 3, 4, 5, 6, 7, 8, 9])\n",
    "    n_classes = y_test_bin.shape[1]\n",
    "\n",
    "    fpr, tpr, roc_auc = dict(), dict(), dict()\n",
    "    for i in range(n_classes):\n",
    "        fpr[i], tpr[i], _ = roc_curve(y_test_bin[:, i], y_prob[:, i])\n",
    "        roc_auc[i] = auc(fpr[i], tpr[i])\n",
    "\n",
    "    colors = cycle(['red', 'purple', 'green', 'orange', 'blue', 'brown', 'pink', 'gray', 'olive','cyan'])\n",
    "    plt.figure(figsize=(10, 10))\n",
    "    for i, color in zip(range(n_classes), colors):\n",
    "        plt.plot(fpr[i], tpr[i], color=color,\n",
    "                label=f'{hand_name[i]} (area = {roc_auc[i]:.2f})')\n",
    "\n",
    "    plt.plot([0, 1], [0, 1], 'k--')\n",
    "    plt.xlim([-.05, 1.05])\n",
    "    plt.ylim([0.0, 1.05])\n",
    "    plt.xlabel('False Positive Rate')\n",
    "    plt.ylabel('True Positive Rate')\n",
    "    plt.title('ROC for poker hands')\n",
    "    plt.legend(loc='lower right')\n",
    "    plt.show(block=True)"
   ]
  },
  {
   "cell_type": "code",
   "execution_count": null,
   "metadata": {},
   "outputs": [],
   "source": [
    "import numpy as np\n",
    "import pandas as pd\n",
    "from sklearn.preprocessing import normalize\n",
    "from sklearn.model_selection import train_test_split\n",
    "from sklearn.preprocessing import StandardScaler\n",
    "\n",
    "cols = [\"S1\", \"C1\", \"S2\", \"C2\", \"S3\", \"C3\", \"S4\", \"C4\", \"S5\", \"C5\", \"CLASS\"]\n",
    "\n",
    "df = pd.read_csv('./data/poker-hand-testing.data', names=cols)\n",
    "\n",
    "x = (df.iloc[:, :10].values)\n",
    "y = df['CLASS'].values\n",
    "\n",
    "scaler = StandardScaler().fit(x)\n",
    "x = scaler.transform(x)\n",
    "\n",
    "x_train, x_test, y_train, y_test = train_test_split(\n",
    "    x, y, test_size=.2, stratify=y)"
   ]
  },
  {
   "cell_type": "code",
   "execution_count": null,
   "metadata": {},
   "outputs": [],
   "source": [
    "from catboost import CatBoostClassifier, Pool\n",
    "from sklearn.metrics import classification_report\n",
    "\n",
    "\n",
    "cat_model = CatBoostClassifier(loss_function='MultiClass', task_type='GPU')\n",
    "cat_model.fit(x_train, y_train)\n",
    "\n",
    "y_pred = cat_model.predict(x_test)\n",
    "y_prob = cat_model.predict_proba(x_test)\n",
    "\n",
    "print(classification_report(y_test, y_pred, digits=5, zero_division=1))"
   ]
  },
  {
   "cell_type": "code",
   "execution_count": null,
   "metadata": {},
   "outputs": [],
   "source": [
    "roc_plot(y_test, y_prob)"
   ]
  },
  {
   "cell_type": "code",
   "execution_count": null,
   "metadata": {},
   "outputs": [],
   "source": []
  }
 ],
 "metadata": {
  "kernelspec": {
   "display_name": "Python 3",
   "language": "python",
   "name": "python3"
  },
  "language_info": {
   "codemirror_mode": {
    "name": "ipython",
    "version": 3
   },
   "file_extension": ".py",
   "mimetype": "text/x-python",
   "name": "python",
   "nbconvert_exporter": "python",
   "pygments_lexer": "ipython3",
   "version": "3.11.4"
  },
  "orig_nbformat": 4
 },
 "nbformat": 4,
 "nbformat_minor": 2
}
