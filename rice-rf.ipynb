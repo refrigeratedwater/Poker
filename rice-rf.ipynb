{
 "cells": [
  {
   "cell_type": "code",
   "execution_count": null,
   "metadata": {},
   "outputs": [],
   "source": [
    "import matplotlib.pyplot as plt\n",
    "\n",
    "def roc_plot(y_test, y_pred):\n",
    "    from sklearn.metrics import roc_curve, auc\n",
    "    from sklearn.calibration import label_binarize\n",
    "    from itertools import cycle\n",
    "\n",
    "    rice = {\n",
    "        0: 'Cammeo',\n",
    "        1: 'Osmanscik',\n",
    "    }\n",
    "\n",
    "    y_test = label_binarize(y_test, classes=[0, 1])\n",
    "    n_classes = y_test.shape[1]\n",
    "\n",
    "    fpr, tpr, roc_auc = dict(), dict(), dict()\n",
    "    for i in range(n_classes):\n",
    "        fpr[i], tpr[i], _ = roc_curve(y_test[:, i], y_pred[:, i])\n",
    "        roc_auc[i] = auc(fpr[i], tpr[i])\n",
    "\n",
    "    colors = cycle(['red', 'blue'])\n",
    "\n",
    "    plt.figure(figsize=(10, 5))\n",
    "\n",
    "    for i, color in zip(range(n_classes), colors):\n",
    "        plt.subplot(1, 2, i + 1)\n",
    "        plt.plot(fpr[i], tpr[i], color=color, lw=2,\n",
    "                label=f'{i}. {rice[i]} (area = {roc_auc[i]:.2f})')\n",
    "\n",
    "        plt.plot([0, 1], [0, 1], 'k--')\n",
    "        plt.xlim([-.05, 1.05])\n",
    "        plt.ylim([0.0, 1.05])\n",
    "        plt.xlabel('False Positive Rate')\n",
    "        plt.ylabel('True Positive Rate')\n",
    "        plt.title(f'Poker Hands ROC - {rice[i]}')\n",
    "        plt.legend(loc='lower right')\n",
    "\n",
    "    plt.tight_layout()\n",
    "    plt.show(block=True)"
   ]
  },
  {
   "cell_type": "code",
   "execution_count": null,
   "metadata": {},
   "outputs": [],
   "source": [
    "import numpy as np\n",
    "import pandas as pd\n",
    "import seaborn as sns\n",
    "\n",
    "cols = ['Area', 'Perimeter', 'Major_Axis_Length', 'Minor_Axis_Length',\n",
    "        'Eccentricity', 'Convex_Area', 'Extent', 'Class']\n",
    "\n",
    "data = pd.read_csv('./data/Rice_Cammeo_Osmancik.arff', names=cols)"
   ]
  },
  {
   "cell_type": "code",
   "execution_count": null,
   "metadata": {},
   "outputs": [],
   "source": [
    "x = data.iloc[:, :7]\n",
    "y = data['Class'].apply(lambda x: 0 if x == 'Cammeo' else 1).values"
   ]
  },
  {
   "cell_type": "code",
   "execution_count": null,
   "metadata": {},
   "outputs": [],
   "source": [
    "from sklearn.model_selection import train_test_split\n",
    "\n",
    "x_train, x_test, y_train, y_test = train_test_split(\n",
    "    x, y, test_size=.25, random_state=42)"
   ]
  },
  {
   "cell_type": "code",
   "execution_count": null,
   "metadata": {},
   "outputs": [],
   "source": [
    "from sklearn.ensemble import RandomForestClassifier\n",
    "\n",
    "rf_model = RandomForestClassifier(n_estimators=50, verbose=1, max_depth=20,  random_state=42, oob_score=True)\n",
    "\n",
    "rf_model.fit(x_train, y_train)\n",
    "\n",
    "y_pred = rf_model.predict(x_test)\n",
    "y_prob = rf_model.predict_proba(x_test)"
   ]
  },
  {
   "cell_type": "code",
   "execution_count": null,
   "metadata": {},
   "outputs": [],
   "source": [
    "from sklearn.metrics import classification_report\n",
    "\n",
    "roc_plot(y_test, y_prob)\n",
    "print(classification_report(y_test, y_pred))"
   ]
  },
  {
   "cell_type": "code",
   "execution_count": null,
   "metadata": {},
   "outputs": [],
   "source": []
  }
 ],
 "metadata": {
  "kernelspec": {
   "display_name": "Python 3",
   "language": "python",
   "name": "python3"
  },
  "language_info": {
   "codemirror_mode": {
    "name": "ipython",
    "version": 3
   },
   "file_extension": ".py",
   "mimetype": "text/x-python",
   "name": "python",
   "nbconvert_exporter": "python",
   "pygments_lexer": "ipython3",
   "version": "3.11.4"
  },
  "orig_nbformat": 4
 },
 "nbformat": 4,
 "nbformat_minor": 2
}
