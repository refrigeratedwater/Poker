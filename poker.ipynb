{
 "cells": [
  {
   "cell_type": "code",
   "execution_count": null,
   "metadata": {},
   "outputs": [],
   "source": [
    "import numpy as np\n",
    "import pandas as pd\n",
    "import matplotlib.pyplot as plt\n",
    "# import seaborn as sb\n",
    "\n",
    "# Define the column names\n",
    "cols = [\"S1\", \"C1\", \"S2\", \"C2\", \"S3\", \"C3\", \"S4\", \"C4\", \"S5\", \"C5\", \"CLASS\"]\n",
    "\n",
    "df = pd.read_csv('./data/poker-hand-testing.data', names=cols)\n",
    "df.head()"
   ]
  },
  {
   "cell_type": "code",
   "execution_count": null,
   "metadata": {},
   "outputs": [],
   "source": [
    "def roc_plot(y_test, y_prob):\n",
    "    from sklearn.metrics import roc_curve, auc\n",
    "    from sklearn.preprocessing import label_binarize\n",
    "    from itertools import cycle\n",
    "    \n",
    "    y_test_bin = label_binarize(y_test, classes=[0, 1, 2, 3, 4, 5, 6, 7, 8, 9])\n",
    "    n_classes = y_test_bin.shape[1]\n",
    "\n",
    "    fpr, tpr, roc_auc = dict(), dict(), dict()\n",
    "    for i in range(n_classes):\n",
    "        fpr[i], tpr[i], _ = roc_curve(y_test_bin[:, i], y_prob[:, i])\n",
    "        roc_auc[i] = auc(fpr[i], tpr[i])\n",
    "\n",
    "    colors = cycle(['aqua', 'darkorange', 'cornflowerblue', 'green',\n",
    "                'red', 'purple', 'yellow', 'gray', 'pink', 'brown'])\n",
    "    plt.figure(figsize=(10, 10))\n",
    "    for i, color in zip(range(n_classes), colors):\n",
    "        plt.plot(fpr[i], tpr[i], color=color,\n",
    "                label=f'ROC Curve of class {i} (area = {roc_auc[i]:.2f})')\n",
    "\n",
    "    plt.plot([0, 1], [0, 1], 'k--')\n",
    "    plt.xlim([-.05, 1.01])\n",
    "    plt.ylim([0.0, 1.01])\n",
    "    plt.xlabel('False Positive Rate')\n",
    "    plt.ylabel('True Positive Rate')\n",
    "    plt.title('ROC for poker hands')\n",
    "    plt.legend(loc='lower right')\n",
    "    plt.show(block=True)"
   ]
  },
  {
   "cell_type": "code",
   "execution_count": null,
   "metadata": {},
   "outputs": [],
   "source": [
    "from sklearn.preprocessing import normalize\n",
    "from sklearn.model_selection import train_test_split\n",
    "\n",
    "\n",
    "x = normalize(df.iloc[:, :10].values)\n",
    "y = df['CLASS'].values\n",
    "\n",
    "x_train, x_test, y_train, y_test = train_test_split(\n",
    "    x, y, test_size=.2, stratify=y)"
   ]
  },
  {
   "cell_type": "markdown",
   "metadata": {},
   "source": [
    "Gradient Boost Classifier\n"
   ]
  },
  {
   "cell_type": "code",
   "execution_count": null,
   "metadata": {},
   "outputs": [],
   "source": [
    "import matplotlib.pyplot as plt\n",
    "from sklearn.model_selection import StratifiedKFold\n",
    "from catboost import CatBoostClassifier, Pool\n",
    "from sklearn.metrics import classification_report\n",
    "\n",
    "n_splits = 3\n",
    "skf = StratifiedKFold(n_splits=n_splits, shuffle=True, random_state=42)\n",
    "\n",
    "\n",
    "# params = {\n",
    "#     'iterations': [250, 500, 1000],\n",
    "#     'depth': [4, 6, 8, 10],\n",
    "#     'learning_rate': [0.001, 0.01, 0.05, 0.1],\n",
    "#     'l2_leaf_reg': [1, 3, 5, 7, 9]\n",
    "# }\n",
    "\n",
    "for train_index, val_index in skf.split(x, y):\n",
    "    x_train, x_test = x[train_index], x[val_index]\n",
    "    y_train, y_test = y[train_index], y[val_index]\n",
    "\n",
    "    cat_model = CatBoostClassifier(iterations=500, learning_rate=.05, depth=10,\n",
    "                                   l2_leaf_reg=10, loss_function='MultiClass', verbose=200, task_type='GPU')\n",
    "    cat_model.fit(x_train, y_train)\n",
    "\n",
    "    y_pred = cat_model.predict(x_test)\n",
    "    y_prob = cat_model.predict_proba(x_test)\n",
    "\n",
    "    print(classification_report(y_test, y_pred, digits=5, zero_division=1))"
   ]
  },
  {
   "cell_type": "code",
   "execution_count": null,
   "metadata": {},
   "outputs": [],
   "source": [
    "roc_plot(y_test, y_prob)"
   ]
  },
  {
   "cell_type": "markdown",
   "metadata": {},
   "source": [
    "Random Forest Classifier\n"
   ]
  },
  {
   "cell_type": "code",
   "execution_count": null,
   "metadata": {},
   "outputs": [],
   "source": [
    "from sklearn.ensemble import RandomForestClassifier\n",
    "\n",
    "# 'n_estimators': 200,\n",
    "#  'min_samples_split': 2,\n",
    "#  'min_samples_leaf': 1,\n",
    "#  'max_depth': 40,\n",
    "#  'criterion': 'entropy',\n",
    "#  'bootstrap': False}\n",
    "\n",
    "rf_model = RandomForestClassifier(criterion='entropy', min_samples_leaf=1, n_jobs=8,\n",
    "                            max_depth=40, bootstrap=False, n_estimators=200, min_samples_split=2, verbose=1, warm_start=True)\n",
    "\n",
    "rf_model.fit(x_train, y_train.ravel())\n",
    "y_pred = rf_model.predict(x_test)\n",
    "y_prob = cat_model.predict_proba(x_test)\n",
    "\n",
    "print(classification_report(y_test, y_pred, digits=5, zero_division=1))"
   ]
  },
  {
   "cell_type": "code",
   "execution_count": null,
   "metadata": {},
   "outputs": [],
   "source": [
    "roc_plot(y_test, y_prob)"
   ]
  },
  {
   "cell_type": "markdown",
   "metadata": {},
   "source": [
    "Neural Network\n"
   ]
  },
  {
   "cell_type": "code",
   "execution_count": null,
   "metadata": {},
   "outputs": [],
   "source": [
    "import tensorflow as tf\n",
    "import numpy as np\n",
    "import pandas as pd\n",
    "\n",
    "cols = [\"S1\", \"C1\", \"S2\", \"C2\", \"S3\", \"C3\", \"S4\", \"C4\", \"S5\", \"C5\", \"CLASS\"]\n",
    "\n",
    "df = pd.read_csv('./data/poker-hand-testing.data', names=cols)"
   ]
  },
  {
   "cell_type": "code",
   "execution_count": null,
   "metadata": {},
   "outputs": [],
   "source": [
    "x_train = df.iloc[:, 0:10].values\n",
    "y_train = df.iloc[:, 10].values\n",
    "\n",
    "x_train = np.array(x_train)\n",
    "y_train = np.array(y_train)\n",
    "y_train = tf.keras.utils.to_categorical(y_train)\n",
    "\n",
    "model = tf.keras.models.Sequential()\n",
    "model.add(tf.keras.layers.Dense(16, input_shape=(10,),\n",
    "          kernel_initializer='uniform', activation='relu'))\n",
    "model.add(tf.keras.layers.Dense(\n",
    "    8, kernel_initializer='uniform', activation='relu'))\n",
    "model.add(tf.keras.layers.Dense(10, activation='softmax'))\n",
    "model.compile(loss='categorical_crossentropy',\n",
    "              optimizer='adam', metrics=['accuracy'],)\n",
    "\n",
    "h = model.fit(x_train, y_train, epochs=10, batch_size=32)\n",
    "\n",
    "model.save('model.keras')\n",
    "print(model.summary())"
   ]
  },
  {
   "cell_type": "code",
   "execution_count": null,
   "metadata": {},
   "outputs": [],
   "source": [
    "from sklearn.calibration import label_binarize\n",
    "from sklearn.metrics import roc_curve, auc\n",
    "from itertools import cycle\n",
    "\n",
    "\n",
    "model = tf.keras.models.load_model('model.keras')\n",
    "\n",
    "# Load test data\n",
    "test_data = pd.read_csv('./data/poker-hand-training-true.data')\n",
    "x_test = test_data.iloc[:, 0:10].values\n",
    "y_test = test_data.iloc[:, 10].values\n",
    "\n",
    "# Predict using the model\n",
    "y_pred_probs = model.predict(x_test)\n",
    "y_pred_classes = np.argmax(y_pred_probs, axis=1)\n",
    "\n",
    "# Convert labels to one-hot encoding\n",
    "\n",
    "hand_name = {\n",
    "    0: 'Nothing in hand',\n",
    "    1: 'One pair',\n",
    "    2: 'Two pairs',\n",
    "    3: 'Three of a kind',\n",
    "    4: 'Straight',\n",
    "    5: 'Flush',\n",
    "    6: 'Full house',\n",
    "    7: 'Four of a kind',\n",
    "    8: 'Straight flush',\n",
    "    9: 'Royal flush',\n",
    "}\n",
    "\n",
    "y_test_bin = label_binarize(y_test, classes=[0, 1, 2, 3, 4, 5, 6, 7, 8, 9])\n",
    "n_classes = y_test_bin.shape[1]\n",
    "\n",
    "# Compute ROC curve and ROC area for each class\n",
    "fpr = dict()\n",
    "tpr = dict()\n",
    "roc_auc = dict()\n",
    "for i in range(n_classes):\n",
    "    fpr[i], tpr[i], _ = roc_curve(y_test_bin[:, i], y_pred_probs[:, i])\n",
    "    roc_auc[i] = auc(fpr[i], tpr[i])\n",
    "\n",
    "# Plot ROC curves\n",
    "plt.figure(figsize=(10, 8))\n",
    "colors = cycle(['aqua', 'darkorange', 'cornflowerblue', 'green',\n",
    "               'red', 'purple', 'yellow', 'gray', 'pink', 'brown'])\n",
    "for i, color in zip(range(n_classes), colors):\n",
    "    plt.plot(fpr[i], tpr[i], color=color, lw=2,\n",
    "             label='{0} (area = {1:0.2f})'.format(hand_name[i], roc_auc[i]))\n",
    "\n",
    "plt.plot([0, 1], [0, 1], 'k--', lw=2)\n",
    "plt.xlim([0.0, 1.0])\n",
    "plt.ylim([0.0, 1.05])\n",
    "plt.xlabel('False Positive Rate')\n",
    "plt.ylabel('True Positive Rate')\n",
    "plt.title('Receiver Operating Characteristic (ROC) for Multi-Class')\n",
    "plt.legend(loc=\"lower right\")\n",
    "plt.show()"
   ]
  },
  {
   "cell_type": "code",
   "execution_count": null,
   "metadata": {},
   "outputs": [],
   "source": [
    "from sklearn.metrics import classification_report\n",
    "features = ['S1', 'C1', 'S2', 'C2', 'S3',\n",
    "            'C3', 'S4', 'C4', 'S5', 'C5', 'CLASS']\n",
    "tdata = pd.read_csv('./data/poker-hand-testing.data', names=features)\n",
    "\n",
    "x_test = tdata.iloc[:, 0:10].values\n",
    "y_test = tdata.iloc[:, 10].values\n",
    "\n",
    "y_test = tf.keras.utils.to_categorical(y_test)\n",
    "\n",
    "loss, accuracy = model.evaluate(x_test, y_test)\n",
    "\n",
    "# Convert continuous predictions to class labels\n",
    "y_pred_classes = np.argmax(y_pred, axis=1)\n",
    "y_test_classes = np.argmax(y_test, axis=1)\n",
    "\n",
    "# Generate classification report\n",
    "report = classification_report(y_test_classes, y_pred_classes)\n",
    "\n",
    "report"
   ]
  },
  {
   "cell_type": "code",
   "execution_count": null,
   "metadata": {},
   "outputs": [],
   "source": []
  }
 ],
 "metadata": {
  "kernelspec": {
   "display_name": "Python 3",
   "language": "python",
   "name": "python3"
  },
  "language_info": {
   "codemirror_mode": {
    "name": "ipython",
    "version": 3
   },
   "file_extension": ".py",
   "mimetype": "text/x-python",
   "name": "python",
   "nbconvert_exporter": "python",
   "pygments_lexer": "ipython3",
   "version": "3.11.4"
  },
  "orig_nbformat": 4
 },
 "nbformat": 4,
 "nbformat_minor": 2
}
