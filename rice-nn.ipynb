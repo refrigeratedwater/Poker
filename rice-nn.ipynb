{
 "cells": [
  {
   "cell_type": "markdown",
   "metadata": {},
   "source": [
    "Graph Plot\n"
   ]
  },
  {
   "cell_type": "code",
   "execution_count": null,
   "metadata": {},
   "outputs": [],
   "source": [
    "import matplotlib.pyplot as plt\n",
    "from sklearn.metrics import roc_curve, auc\n",
    "from sklearn.calibration import label_binarize\n",
    "from itertools import cycle\n",
    "\n",
    "\n",
    "def roc_plot(y_test, y_pred):\n",
    "    rice = {\n",
    "        0: 'Cammeo',\n",
    "        1: 'Osmanscik',\n",
    "    }\n",
    "\n",
    "    plt.figure(figsize=(10, 5))\n",
    "\n",
    "    colors = cycle(['red', 'blue'])\n",
    "\n",
    "    for i, class_name in rice.items():\n",
    "        fpr, tpr, _ = roc_curve(y_test, y_pred)\n",
    "        roc_auc = auc(fpr, tpr)\n",
    "\n",
    "        color = next(colors)\n",
    "\n",
    "        plt.subplot(1, 2, i + 1)\n",
    "        plt.plot(fpr, tpr, color=color, lw=2,\n",
    "                 label=f'ROC Curve: {class_name} (area = {roc_auc:.2f})')\n",
    "\n",
    "        plt.plot([0, 1], [0, 1], 'k--')\n",
    "        plt.xlim([-.05, 1.0])\n",
    "        plt.ylim([0.0, 1.05])\n",
    "        plt.xlabel('False Positive Rate')\n",
    "        plt.ylabel('True Positive Rate')\n",
    "        plt.title(f'ROC Curve - {class_name}')\n",
    "        plt.legend(loc='lower right')\n",
    "\n",
    "    plt.tight_layout()\n",
    "    plt.show()"
   ]
  },
  {
   "cell_type": "markdown",
   "metadata": {},
   "source": [
    "Neural Network\n"
   ]
  },
  {
   "cell_type": "code",
   "execution_count": null,
   "metadata": {},
   "outputs": [],
   "source": [
    "import numpy as np\n",
    "import pandas as pd\n",
    "import seaborn as sns\n",
    "\n",
    "cols = ['Area', 'Perimeter', 'Major_Axis_Length', 'Minor_Axis_Length',\n",
    "        'Eccentricity', 'Convex_Area', 'Extent', 'Class']\n",
    "\n",
    "data = pd.read_csv('./data/Rice_Cammeo_Osmancik.arff', names=cols)\n",
    "data['Class'] = (data['Class'] == 'Osmancik').astype(int)"
   ]
  },
  {
   "cell_type": "code",
   "execution_count": null,
   "metadata": {},
   "outputs": [],
   "source": [
    "fig, ax = plt.subplots(figsize=(6,  3))\n",
    "\n",
    "z_scores = np.abs((data.select_dtypes(include=[np.number]) - data.select_dtypes(include=[np.number]).mean()) / data.select_dtypes(include=[np.number]).std())\n",
    "outliers = z_scores > 3\n",
    "\n",
    "for i, col in enumerate(z_scores.columns):\n",
    "    # Blue Z-Score\n",
    "    ax.scatter([col]*len(z_scores), z_scores[col], c='b', label='Normal' if i == 0 else \"\")\n",
    "    \n",
    "    # Red Z-Score\n",
    "    outlier_z_scores = z_scores.loc[outliers[col], col]\n",
    "    \n",
    "    ax.scatter([col]*len(outlier_z_scores), outlier_z_scores, c='r', label='Outlier' if i == 0 else \"\")\n",
    "\n",
    "ax.set_title('Z-Scores of Features with Outliers')\n",
    "ax.set_xlabel('Feature')\n",
    "ax.set_ylabel('Z-Score')\n",
    "ax.legend()\n",
    "plt.xticks(rotation=45)\n",
    "plt.show()"
   ]
  },
  {
   "cell_type": "code",
   "execution_count": null,
   "metadata": {},
   "outputs": [],
   "source": [
    "from sklearn.preprocessing import StandardScaler\n",
    "\n",
    "x = data.iloc[:, 0:7].values\n",
    "y = data.iloc[:, -1]\n",
    "\n",
    "scaler = StandardScaler()\n",
    "x = scaler.fit_transform(x)"
   ]
  },
  {
   "cell_type": "code",
   "execution_count": null,
   "metadata": {},
   "outputs": [],
   "source": [
    "import tensorflow as tf\n",
    "from sklearn.model_selection import train_test_split\n",
    "\n",
    "x_train, x_test, y_train, y_test = train_test_split(\n",
    "    x, y, test_size=.3, random_state=42)\n",
    "x_train, x_val, y_train, y_val = train_test_split(\n",
    "    x_train, y_train, test_size=.15, random_state=42)\n",
    "\n",
    "y_train = y_train.astype(int)\n",
    "y_val = y_val.astype(int)\n",
    "y_test = y_test.astype(int)\n",
    "\n",
    "model = tf.keras.layers.Sequential()\n",
    "model.add(tf.keras.layers.Dense(128, input_shape=(7,),\n",
    "          kernel_initializer='normal', activation='tanh'))\n",
    "model.add(tf.keras.layers.Dropout(.4))\n",
    "model.add(tf.keras.layers.Dense(64, activation='tanh'))\n",
    "model.add(tf.keras.layers.Dropout(.4))\n",
    "model.add(tf.keras.layers.Dense(1, activation='sigmoid'))\n",
    "model.compile(loss='binary_crossentropy', optimizer=tf.keras.optimizers.Adadelta(\n",
    "    learning_rate=.0025), metrics=['accuracy'])\n",
    "\n",
    "\n",
    "model.fit(x_train, y_train, batch_size=32, shuffle=True, epochs=200, callbacks=tf.keras.callbacks.EarlyStopping(\n",
    "    monitor='loss'), validation_data=(x_val, y_val))\n",
    "\n",
    "y_pred = model.predict(x_test)"
   ]
  },
  {
   "cell_type": "code",
   "execution_count": null,
   "metadata": {},
   "outputs": [],
   "source": [
    "from sklearn.metrics import classification_report, confusion_matrix\n",
    "\n",
    "roc_plot(y_test, np.array(y_pred))\n",
    "\n",
    "y_pred = (y_pred >= 0.5).astype(int)\n",
    "\n",
    "print(classification_report(y_test, y_pred))\n",
    "print(confusion_matrix(y_test, y_pred))"
   ]
  },
  {
   "cell_type": "code",
   "execution_count": null,
   "metadata": {},
   "outputs": [],
   "source": []
  }
 ],
 "metadata": {
  "kernelspec": {
   "display_name": "Python 3",
   "language": "python",
   "name": "python3"
  },
  "language_info": {
   "codemirror_mode": {
    "name": "ipython",
    "version": 3
   },
   "file_extension": ".py",
   "mimetype": "text/x-python",
   "name": "python",
   "nbconvert_exporter": "python",
   "pygments_lexer": "ipython3",
   "version": "3.11.4"
  },
  "orig_nbformat": 4
 },
 "nbformat": 4,
 "nbformat_minor": 2
}
