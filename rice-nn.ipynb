{
 "cells": [
  {
   "cell_type": "markdown",
   "metadata": {},
   "source": [
    "Graph Plot\n"
   ]
  },
  {
   "cell_type": "code",
   "execution_count": 135,
   "metadata": {},
   "outputs": [],
   "source": [
    "import matplotlib.pyplot as plt\n",
    "from sklearn.metrics import roc_curve, auc\n",
    "from sklearn.calibration import label_binarize\n",
    "from itertools import cycle\n",
    "\n",
    "\n",
    "def roc_plot(y_test, y_pred):\n",
    "    rice = {\n",
    "        0: 'Cammeo',\n",
    "        1: 'Osmanscik',\n",
    "    }\n",
    "\n",
    "    plt.figure(figsize=(10, 5))\n",
    "\n",
    "    colors = cycle(['red', 'blue'])\n",
    "\n",
    "    for i, class_name in rice.items():\n",
    "        fpr, tpr, _ = roc_curve(y_test, y_pred)\n",
    "        roc_auc = auc(fpr, tpr)\n",
    "\n",
    "        color = next(colors)\n",
    "\n",
    "        plt.subplot(1, 2, i + 1)\n",
    "        plt.plot(fpr, tpr, color=color, lw=2,\n",
    "                 label=f'ROC Curve: {class_name} (area = {roc_auc:.2f})')\n",
    "\n",
    "        plt.plot([0, 1], [0, 1], 'k--')\n",
    "        plt.xlim([-.05, 1.0])\n",
    "        plt.ylim([0.0, 1.05])\n",
    "        plt.xlabel('False Positive Rate')\n",
    "        plt.ylabel('True Positive Rate')\n",
    "        plt.title(f'ROC Curve - {class_name}')\n",
    "        plt.legend(loc='lower right')\n",
    "\n",
    "    plt.tight_layout()\n",
    "    plt.show()"
   ]
  },
  {
   "cell_type": "markdown",
   "metadata": {},
   "source": [
    "Neural Network\n"
   ]
  },
  {
   "cell_type": "code",
   "execution_count": 136,
   "metadata": {},
   "outputs": [],
   "source": [
    "import numpy as np\n",
    "import pandas as pd\n",
    "import seaborn as sns\n",
    "\n",
    "cols = ['Area', 'Perimeter', 'Major_Axis_Length', 'Minor_Axis_Length',\n",
    "        'Eccentricity', 'Convex_Area', 'Extent', 'Class']\n",
    "\n",
    "data = pd.read_csv('./data/Rice_Cammeo_Osmancik.arff', names=cols)\n",
    "data['Class'] = (data['Class'] == 'Osmancik').astype(int)"
   ]
  },
  {
   "cell_type": "code",
   "execution_count": 137,
   "metadata": {},
   "outputs": [],
   "source": [
    "from sklearn.preprocessing import StandardScaler\n",
    "\n",
    "x = data.iloc[:, 0:7].values\n",
    "y = data.iloc[:, -1]\n",
    "\n",
    "scaler = StandardScaler()\n",
    "x = scaler.fit_transform(x)"
   ]
  },
  {
   "cell_type": "code",
   "execution_count": 138,
   "metadata": {},
   "outputs": [
    {
     "name": "stdout",
     "output_type": "stream",
     "text": [
      "Epoch 1/200\n",
      "71/71 [==============================] - 1s 3ms/step - loss: 0.6340 - accuracy: 0.7034 - val_loss: 0.6136 - val_accuracy: 0.8703\n",
      "Epoch 2/200\n",
      "71/71 [==============================] - 0s 2ms/step - loss: 0.6161 - accuracy: 0.7436 - val_loss: 0.6004 - val_accuracy: 0.8828\n",
      "Epoch 3/200\n",
      "71/71 [==============================] - 0s 2ms/step - loss: 0.6024 - accuracy: 0.7652 - val_loss: 0.5875 - val_accuracy: 0.9002\n",
      "Epoch 4/200\n",
      "71/71 [==============================] - 0s 2ms/step - loss: 0.5906 - accuracy: 0.7855 - val_loss: 0.5747 - val_accuracy: 0.9052\n",
      "Epoch 5/200\n",
      "71/71 [==============================] - 0s 2ms/step - loss: 0.5791 - accuracy: 0.8049 - val_loss: 0.5621 - val_accuracy: 0.9077\n",
      "Epoch 6/200\n",
      "71/71 [==============================] - 0s 2ms/step - loss: 0.5699 - accuracy: 0.8350 - val_loss: 0.5497 - val_accuracy: 0.9077\n",
      "Epoch 7/200\n",
      "71/71 [==============================] - 0s 2ms/step - loss: 0.5536 - accuracy: 0.8438 - val_loss: 0.5376 - val_accuracy: 0.9102\n",
      "Epoch 8/200\n",
      "71/71 [==============================] - 0s 2ms/step - loss: 0.5440 - accuracy: 0.8623 - val_loss: 0.5257 - val_accuracy: 0.9202\n",
      "Epoch 9/200\n",
      "71/71 [==============================] - 0s 2ms/step - loss: 0.5325 - accuracy: 0.8645 - val_loss: 0.5141 - val_accuracy: 0.9202\n",
      "Epoch 10/200\n",
      "71/71 [==============================] - 0s 2ms/step - loss: 0.5211 - accuracy: 0.8707 - val_loss: 0.5028 - val_accuracy: 0.9202\n",
      "Epoch 11/200\n",
      "71/71 [==============================] - 0s 2ms/step - loss: 0.5132 - accuracy: 0.8694 - val_loss: 0.4917 - val_accuracy: 0.9227\n",
      "Epoch 12/200\n",
      "71/71 [==============================] - 0s 2ms/step - loss: 0.5002 - accuracy: 0.8800 - val_loss: 0.4809 - val_accuracy: 0.9227\n",
      "Epoch 13/200\n",
      "71/71 [==============================] - 0s 2ms/step - loss: 0.4924 - accuracy: 0.8826 - val_loss: 0.4704 - val_accuracy: 0.9202\n",
      "Epoch 14/200\n",
      "71/71 [==============================] - 0s 2ms/step - loss: 0.4840 - accuracy: 0.8906 - val_loss: 0.4601 - val_accuracy: 0.9202\n",
      "Epoch 15/200\n",
      "71/71 [==============================] - 0s 2ms/step - loss: 0.4731 - accuracy: 0.8888 - val_loss: 0.4501 - val_accuracy: 0.9227\n",
      "Epoch 16/200\n",
      "71/71 [==============================] - 0s 2ms/step - loss: 0.4615 - accuracy: 0.8875 - val_loss: 0.4405 - val_accuracy: 0.9227\n",
      "Epoch 17/200\n",
      "71/71 [==============================] - 0s 2ms/step - loss: 0.4524 - accuracy: 0.8963 - val_loss: 0.4312 - val_accuracy: 0.9227\n",
      "Epoch 18/200\n",
      "71/71 [==============================] - 0s 2ms/step - loss: 0.4420 - accuracy: 0.8932 - val_loss: 0.4220 - val_accuracy: 0.9227\n",
      "Epoch 19/200\n",
      "71/71 [==============================] - 0s 2ms/step - loss: 0.4364 - accuracy: 0.8936 - val_loss: 0.4132 - val_accuracy: 0.9227\n",
      "Epoch 20/200\n",
      "71/71 [==============================] - 0s 2ms/step - loss: 0.4277 - accuracy: 0.8985 - val_loss: 0.4046 - val_accuracy: 0.9227\n",
      "Epoch 21/200\n",
      "71/71 [==============================] - 0s 1ms/step - loss: 0.4195 - accuracy: 0.8994 - val_loss: 0.3963 - val_accuracy: 0.9227\n",
      "Epoch 22/200\n",
      "71/71 [==============================] - 0s 1ms/step - loss: 0.4126 - accuracy: 0.8967 - val_loss: 0.3883 - val_accuracy: 0.9252\n",
      "Epoch 23/200\n",
      "71/71 [==============================] - 0s 2ms/step - loss: 0.4005 - accuracy: 0.9034 - val_loss: 0.3805 - val_accuracy: 0.9252\n",
      "Epoch 24/200\n",
      "71/71 [==============================] - 0s 2ms/step - loss: 0.3941 - accuracy: 0.9047 - val_loss: 0.3731 - val_accuracy: 0.9252\n",
      "Epoch 25/200\n",
      "71/71 [==============================] - 0s 2ms/step - loss: 0.3881 - accuracy: 0.9047 - val_loss: 0.3658 - val_accuracy: 0.9277\n",
      "Epoch 26/200\n",
      "71/71 [==============================] - 0s 2ms/step - loss: 0.3832 - accuracy: 0.9016 - val_loss: 0.3588 - val_accuracy: 0.9302\n",
      "Epoch 27/200\n",
      "71/71 [==============================] - 0s 2ms/step - loss: 0.3747 - accuracy: 0.9047 - val_loss: 0.3520 - val_accuracy: 0.9302\n",
      "Epoch 28/200\n",
      "71/71 [==============================] - 0s 2ms/step - loss: 0.3723 - accuracy: 0.8967 - val_loss: 0.3454 - val_accuracy: 0.9327\n",
      "Epoch 29/200\n",
      "71/71 [==============================] - 0s 2ms/step - loss: 0.3608 - accuracy: 0.9051 - val_loss: 0.3390 - val_accuracy: 0.9302\n",
      "Epoch 30/200\n",
      "71/71 [==============================] - 0s 2ms/step - loss: 0.3561 - accuracy: 0.9073 - val_loss: 0.3328 - val_accuracy: 0.9302\n",
      "Epoch 31/200\n",
      "71/71 [==============================] - 0s 2ms/step - loss: 0.3509 - accuracy: 0.9047 - val_loss: 0.3269 - val_accuracy: 0.9302\n",
      "Epoch 32/200\n",
      "71/71 [==============================] - 0s 2ms/step - loss: 0.3448 - accuracy: 0.9086 - val_loss: 0.3213 - val_accuracy: 0.9302\n",
      "Epoch 33/200\n",
      "71/71 [==============================] - 0s 2ms/step - loss: 0.3393 - accuracy: 0.9064 - val_loss: 0.3158 - val_accuracy: 0.9302\n",
      "Epoch 34/200\n",
      "71/71 [==============================] - 0s 2ms/step - loss: 0.3332 - accuracy: 0.9082 - val_loss: 0.3105 - val_accuracy: 0.9302\n",
      "Epoch 35/200\n",
      "71/71 [==============================] - 0s 2ms/step - loss: 0.3287 - accuracy: 0.9109 - val_loss: 0.3054 - val_accuracy: 0.9302\n",
      "Epoch 36/200\n",
      "71/71 [==============================] - 0s 1ms/step - loss: 0.3250 - accuracy: 0.9104 - val_loss: 0.3005 - val_accuracy: 0.9302\n",
      "Epoch 37/200\n",
      "71/71 [==============================] - 0s 2ms/step - loss: 0.3201 - accuracy: 0.9117 - val_loss: 0.2958 - val_accuracy: 0.9302\n",
      "Epoch 38/200\n",
      "71/71 [==============================] - 0s 2ms/step - loss: 0.3153 - accuracy: 0.9091 - val_loss: 0.2912 - val_accuracy: 0.9302\n",
      "Epoch 39/200\n",
      "71/71 [==============================] - 0s 2ms/step - loss: 0.3124 - accuracy: 0.9153 - val_loss: 0.2868 - val_accuracy: 0.9302\n",
      "Epoch 40/200\n",
      "71/71 [==============================] - 0s 2ms/step - loss: 0.3076 - accuracy: 0.9109 - val_loss: 0.2825 - val_accuracy: 0.9302\n",
      "Epoch 41/200\n",
      "71/71 [==============================] - 0s 2ms/step - loss: 0.3053 - accuracy: 0.9144 - val_loss: 0.2784 - val_accuracy: 0.9302\n",
      "Epoch 42/200\n",
      "71/71 [==============================] - 0s 2ms/step - loss: 0.3017 - accuracy: 0.9082 - val_loss: 0.2745 - val_accuracy: 0.9302\n",
      "Epoch 43/200\n",
      "71/71 [==============================] - 0s 2ms/step - loss: 0.2973 - accuracy: 0.9157 - val_loss: 0.2707 - val_accuracy: 0.9302\n",
      "Epoch 44/200\n",
      "71/71 [==============================] - 0s 2ms/step - loss: 0.2949 - accuracy: 0.9078 - val_loss: 0.2671 - val_accuracy: 0.9302\n",
      "Epoch 45/200\n",
      "71/71 [==============================] - 0s 1ms/step - loss: 0.2902 - accuracy: 0.9126 - val_loss: 0.2636 - val_accuracy: 0.9302\n",
      "Epoch 46/200\n",
      "71/71 [==============================] - 0s 1ms/step - loss: 0.2850 - accuracy: 0.9117 - val_loss: 0.2602 - val_accuracy: 0.9302\n",
      "Epoch 47/200\n",
      "71/71 [==============================] - 0s 1ms/step - loss: 0.2851 - accuracy: 0.9086 - val_loss: 0.2570 - val_accuracy: 0.9302\n",
      "36/36 [==============================] - 0s 655us/step\n"
     ]
    }
   ],
   "source": [
    "import tensorflow as tf\n",
    "from sklearn.model_selection import train_test_split\n",
    "\n",
    "x_train, x_test, y_train, y_test = train_test_split(\n",
    "    x, y, test_size=.3, random_state=42)\n",
    "x_train, x_val, y_train, y_val = train_test_split(\n",
    "    x_train, y_train, test_size=.15, random_state=42)\n",
    "\n",
    "y_train = y_train.astype(int)\n",
    "y_val = y_val.astype(int)\n",
    "y_test = y_test.astype(int)\n",
    "\n",
    "model = tf.keras.layers.Sequential()\n",
    "model.add(tf.keras.layers.Dense(128, input_shape=(7,),\n",
    "          kernel_initializer='normal', activation='tanh'))\n",
    "model.add(tf.keras.layers.Dropout(.4))\n",
    "model.add(tf.keras.layers.Dense(64, activation='tanh'))\n",
    "model.add(tf.keras.layers.Dropout(.4))\n",
    "model.add(tf.keras.layers.Dense(1, activation='sigmoid'))\n",
    "model.compile(loss='binary_crossentropy', optimizer=tf.keras.optimizers.Adadelta(\n",
    "    learning_rate=.0025), metrics=['accuracy'])\n",
    "\n",
    "\n",
    "model.fit(x_train, y_train, batch_size=32, shuffle=True, epochs=200, callbacks=tf.keras.callbacks.EarlyStopping(\n",
    "    monitor='loss'), validation_data=(x_val, y_val))\n",
    "\n",
    "y_pred = model.predict(x_test)"
   ]
  },
  {
   "cell_type": "code",
   "execution_count": 139,
   "metadata": {},
   "outputs": [
    {
     "data": {
      "image/png": "[encoded data removed]",
      "text/plain": [
       "<Figure size 1000x500 with 2 Axes>"
      ]
     },
     "metadata": {},
     "output_type": "display_data"
    },
    {
     "name": "stdout",
     "output_type": "stream",
     "text": [
      "              precision    recall  f1-score   support\n",
      "\n",
      "           0       0.91      0.92      0.92       518\n",
      "           1       0.93      0.93      0.93       625\n",
      "\n",
      "    accuracy                           0.92      1143\n",
      "   macro avg       0.92      0.92      0.92      1143\n",
      "weighted avg       0.92      0.92      0.92      1143\n",
      "\n",
      "[[475  43]\n",
      " [ 45 580]]\n"
     ]
    }
   ],
   "source": [
    "from sklearn.metrics import classification_report, confusion_matrix\n",
    "\n",
    "roc_plot(y_test, np.array(y_pred))\n",
    "\n",
    "y_pred = (y_pred >= 0.5).astype(int)\n",
    "\n",
    "print(classification_report(y_test, y_pred))\n",
    "print(confusion_matrix(y_test, y_pred))"
   ]
  },
  {
   "cell_type": "code",
   "execution_count": null,
   "metadata": {},
   "outputs": [],
   "source": []
  }
 ],
 "metadata": {
  "kernelspec": {
   "display_name": "Python 3",
   "language": "python",
   "name": "python3"
  },
  "language_info": {
   "codemirror_mode": {
    "name": "ipython",
    "version": 3
   },
   "file_extension": ".py",
   "mimetype": "text/x-python",
   "name": "python",
   "nbconvert_exporter": "python",
   "pygments_lexer": "ipython3",
   "version": "3.11.4"
  },
  "orig_nbformat": 4
 },
 "nbformat": 4,
 "nbformat_minor": 2
}
